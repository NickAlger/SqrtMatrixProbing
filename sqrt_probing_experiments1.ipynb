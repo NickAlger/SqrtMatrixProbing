{
 "cells": [
  {
   "cell_type": "code",
   "execution_count": 1,
   "id": "af1b3d78",
   "metadata": {},
   "outputs": [],
   "source": [
    "import numpy as np\n",
    "from scipy.integrate import solve_ivp\n",
    "import matplotlib.pyplot as plt"
   ]
  },
  {
   "cell_type": "code",
   "execution_count": 2,
   "id": "f2cd62c9",
   "metadata": {},
   "outputs": [
    {
     "name": "stdout",
     "output_type": "stream",
     "text": [
      "s= 1e-06 , err_df_dc= 3.3537135612884913e-07\n"
     ]
    }
   ],
   "source": [
    "m = 10\n",
    "\n",
    "def f(c):\n",
    "    return np.outer(c, c)\n",
    "\n",
    "def apply_df_dc(c, h):\n",
    "    return  np.outer(c, h) + np.outer(h, c)\n",
    "\n",
    "c0 = np.random.randn(m)\n",
    "f0 = f(c0)\n",
    "h = np.random.randn(m)\n",
    "df_dc_h = apply_df_dc(c0, h)\n",
    "\n",
    "s = 1e-6\n",
    "c1 = c0 + s*h\n",
    "f1 = f(c1)\n",
    "\n",
    "df_dc_h_diff = (f1 - f0) / s\n",
    "err_df_dc = np.linalg.norm(df_dc_h_diff - df_dc_h) / np.linalg.norm(df_dc_h_diff)\n",
    "print('s=', s, ', err_df_dc=', err_df_dc)"
   ]
  },
  {
   "cell_type": "code",
   "execution_count": 3,
   "id": "11d40609",
   "metadata": {},
   "outputs": [
    {
     "name": "stdout",
     "output_type": "stream",
     "text": [
      "err_G= 4.026932865064459e-16\n"
     ]
    }
   ],
   "source": [
    "def G(c):\n",
    "    return 2.0 * np.dot(c, c) * np.eye(len(c)) + 2.0 * np.outer(c, c)\n",
    "\n",
    "u = np.random.randn(m)\n",
    "v = np.random.randn(m)\n",
    "\n",
    "IP_true = np.sum(apply_df_dc(c0, u) * apply_df_dc(c0, v))\n",
    "\n",
    "G0 = G(c0)\n",
    "IP = np.dot(u, np.dot(G0, v))\n",
    "\n",
    "err_G = np.linalg.norm(IP_true - IP) / np.linalg.norm(IP_true)\n",
    "print('err_G=', err_G)"
   ]
  },
  {
   "cell_type": "code",
   "execution_count": 4,
   "id": "a548a3f4",
   "metadata": {},
   "outputs": [
    {
     "name": "stdout",
     "output_type": "stream",
     "text": [
      "err_hamiltonian= 1.9416827249203102e-16\n"
     ]
    }
   ],
   "source": [
    "def H(c, p):\n",
    "    return np.dot(c, c) * np.dot(p, p) + np.dot(c, p)**2\n",
    "\n",
    "\n",
    "p0 = np.random.randn(m)\n",
    "H0 = H(c0, p0)\n",
    "H0_true = 0.5 * np.dot(p0, np.dot(G(c0), p0))\n",
    "\n",
    "err_hamiltonian = np.linalg.norm(H0 - H0_true) / np.linalg.norm(H0_true)\n",
    "print('err_hamiltonian=', err_hamiltonian)\n"
   ]
  },
  {
   "cell_type": "code",
   "execution_count": 5,
   "id": "1c88d24d",
   "metadata": {},
   "outputs": [
    {
     "name": "stdout",
     "output_type": "stream",
     "text": [
      "s= 1e-06 , err_dH_dc= 5.085867699912155e-07\n"
     ]
    }
   ],
   "source": [
    "def dH_dc(c, p):\n",
    "    return 2.0 * c * np.dot(p, p) + 2.0 * p * np.dot(c, p)\n",
    "\n",
    "c0 = np.random.randn(m)\n",
    "p0 = np.random.randn(m)\n",
    "H0 = H(c0, p0)\n",
    "\n",
    "h = np.random.randn(m)\n",
    "dH_dc_h = np.dot(dH_dc(c0, p0), h)\n",
    "\n",
    "s = 1e-6\n",
    "c1 = c0 + s*h\n",
    "\n",
    "H1 = H(c1, p0)\n",
    "dH_dc_h_diff = (H1 - H0) / s\n",
    "\n",
    "err_dH_dc = np.linalg.norm(dH_dc_h_diff - dH_dc_h) / np.linalg.norm(dH_dc_h_diff)\n",
    "print('s=', s, ', err_dH_dc=', err_dH_dc)"
   ]
  },
  {
   "cell_type": "code",
   "execution_count": 6,
   "id": "9e014dee",
   "metadata": {},
   "outputs": [
    {
     "name": "stdout",
     "output_type": "stream",
     "text": [
      "s= 1e-06 , err_dH_dp= 3.887583487414079e-06\n"
     ]
    }
   ],
   "source": [
    "def dH_dp(c, p):\n",
    "    return 2.0 * p * np.dot(c, c) + 2.0 * c * np.dot(p, c)\n",
    "\n",
    "c0 = np.random.randn(m)\n",
    "p0 = np.random.randn(m)\n",
    "H0 = H(c0, p0)\n",
    "\n",
    "h = np.random.randn(m)\n",
    "dH_dp_h = np.dot(dH_dp(c0, p0), h)\n",
    "\n",
    "s = 1e-6\n",
    "p1 = p0 + s*h\n",
    "\n",
    "H1 = H(c0, p1)\n",
    "dH_dp_h_diff = (H1 - H0) / s\n",
    "\n",
    "err_dH_dp = np.linalg.norm(dH_dp_h_diff - dH_dp_h) / np.linalg.norm(dH_dp_h_diff)\n",
    "print('s=', s, ', err_dH_dp=', err_dH_dp)"
   ]
  },
  {
   "cell_type": "code",
   "execution_count": 7,
   "id": "1b49b02b",
   "metadata": {},
   "outputs": [
    {
     "name": "stdout",
     "output_type": "stream",
     "text": [
      "T= 1.0 , H0= 0.6809651399254789 , HT= 0.680987629256631\n"
     ]
    },
    {
     "data": {
      "text/plain": [
       "[<matplotlib.lines.Line2D at 0x7f2ac1d71b80>]"
      ]
     },
     "execution_count": 7,
     "metadata": {},
     "output_type": "execute_result"
    },
    {
     "data": {
      "image/png": "[encoded data removed]",
      "text/plain": [
       "<Figure size 432x288 with 1 Axes>"
      ]
     },
     "metadata": {
      "needs_background": "light"
     },
     "output_type": "display_data"
    }
   ],
   "source": [
    "def cdot(c, p):\n",
    "    return dH_dp(c, p)\n",
    "\n",
    "def pdot(c, p):\n",
    "    return -dH_dc(c, p)\n",
    "\n",
    "def ydot(t, y):\n",
    "    m = int(len(y)/2)\n",
    "    c = y[:m]\n",
    "    p = y[m:]\n",
    "    return np.concatenate([cdot(c,p), pdot(c,p)])\n",
    "\n",
    "\n",
    "def geodesic(c0, p0, T, num_pts=None):\n",
    "    y0 = np.concatenate([c0, p0])\n",
    "    if num_pts is not None:\n",
    "        tt = np.linspace(0, T, num_pts)\n",
    "    else:\n",
    "        tt = None\n",
    "    result = solve_ivp(ydot, (0.0, T), y0, t_eval=tt, method='Radau')\n",
    "    cc = result.y[: len(c0), :]\n",
    "    pp = result.y[len(c0) :, :]\n",
    "    return cc, pp\n",
    "\n",
    "m = 2\n",
    "c0 = np.random.randn(m)\n",
    "p0 = np.random.randn(m)\n",
    "H0 = H(c0, p0)\n",
    "\n",
    "T = 1.0\n",
    "\n",
    "cc, pp = geodesic(c0, p0, T, num_pts=1000)\n",
    "\n",
    "cT = cc[:,-1]\n",
    "pT = pp[:,-1]\n",
    "\n",
    "HT = H(cT, pT)\n",
    "print('T=', T, ', H0=', H0, ', HT=', HT)\n",
    "\n",
    "plt.plot(cc[0,:], cc[1,:])\n",
    "plt.plot(cT[0], cT[1], '*r') # final point"
   ]
  },
  {
   "cell_type": "code",
   "execution_count": 8,
   "id": "8a59df28",
   "metadata": {},
   "outputs": [
    {
     "data": {
      "image/png": "[encoded data removed]",
      "text/plain": [
       "<Figure size 432x288 with 1 Axes>"
      ]
     },
     "metadata": {
      "needs_background": "light"
     },
     "output_type": "display_data"
    }
   ],
   "source": [
    "num_radii = 5\n",
    "num_theta = 15\n",
    "\n",
    "m = 2\n",
    "c0 = np.random.randn(m)\n",
    "\n",
    "thetas = np.linspace(0,2*np.pi, num_theta)\n",
    "all_p0 = [np.array([np.sin(theta), np.cos(theta)]) for theta in list(thetas)]\n",
    "\n",
    "\n",
    "T = 0.25\n",
    "\n",
    "all_cc = np.zeros((m, num_radii, num_theta))\n",
    "for ii in range(num_theta):\n",
    "    p0 = all_p0[ii]\n",
    "    cc, pp = geodesic(c0, p0, T, num_pts=num_radii)\n",
    "    all_cc[:,:,ii] = cc\n",
    "\n",
    "for ii in range(num_theta):\n",
    "    plt.plot(all_cc[0,:,ii], all_cc[1,:,ii], 'k')\n",
    "    \n",
    "for jj in range(num_radii):\n",
    "    plt.plot(all_cc[0,jj,:], all_cc[1,jj,:], 'k')"
   ]
  },
  {
   "cell_type": "code",
   "execution_count": 9,
   "id": "1708c04d",
   "metadata": {},
   "outputs": [
    {
     "data": {
      "image/png": "[encoded data removed]",
      "text/plain": [
       "<Figure size 432x288 with 1 Axes>"
      ]
     },
     "metadata": {
      "needs_background": "light"
     },
     "output_type": "display_data"
    }
   ],
   "source": [
    "def exp_map(c0, p0, t):\n",
    "    result = geodesic(c0, p0, t, num_pts=None)\n",
    "    return result[0][:,-1], result[1][:,-1]\n",
    "\n",
    "tt = np.linspace(0, T, num_radii)\n",
    "\n",
    "all_cc = np.zeros((m, num_radii, num_theta))\n",
    "for ii in range(num_theta):\n",
    "    for jj in range(num_radii):\n",
    "        p0 = all_p0[ii]\n",
    "        all_cc[:,jj,ii] = exp_map(c0, all_p0[ii], tt[jj])[0]\n",
    "\n",
    "for ii in range(num_theta):\n",
    "    plt.plot(all_cc[0,:,ii], all_cc[1,:,ii], 'k')\n",
    "    \n",
    "for jj in range(num_radii):\n",
    "    plt.plot(all_cc[0,jj,:], all_cc[1,jj,:], 'k')"
   ]
  },
  {
   "cell_type": "code",
   "execution_count": 10,
   "id": "51178170",
   "metadata": {},
   "outputs": [
    {
     "name": "stdout",
     "output_type": "stream",
     "text": [
      "s= 1e-07 , err_cdotdot= 1.37350736299912e-06\n"
     ]
    }
   ],
   "source": [
    "def cdotdot(c, p):\n",
    "    cd = cdot(c, p)\n",
    "    pd = pdot(c, p)\n",
    "    return (2.0 * pd * np.dot(c,  c) +\n",
    "            4.0 * p  * np.dot(cd, c) +\n",
    "            2.0 * cd * np.dot(p,  c) +\n",
    "            2.0 * c  * np.dot(pd, c) +\n",
    "            2.0 * c  * np.dot(p,  cd))\n",
    "\n",
    "m = 10\n",
    "c0 = np.random.randn(m)\n",
    "p0 = np.random.randn(m)\n",
    "cd0 = cdot(c0, p0)\n",
    "cdd0 = cdotdot(c0, p0)\n",
    "\n",
    "s = 1e-7\n",
    "c1, p1 = exp_map(c0, p0, s)\n",
    "cd1 = cdot(c1, p1)\n",
    "\n",
    "cdd0_diff = (cd1 - cd0) / s\n",
    "err_cdotdot = np.linalg.norm(cdd0_diff - cdd0) / np.linalg.norm(cdd0_diff)\n",
    "print('s=', s, ', err_cdotdot=', err_cdotdot)"
   ]
  },
  {
   "cell_type": "code",
   "execution_count": 11,
   "id": "d43d467c",
   "metadata": {},
   "outputs": [
    {
     "name": "stdout",
     "output_type": "stream",
     "text": [
      "s= 1e-06 , err_dcdot_dp_h= 8.732686978735108e-11\n"
     ]
    }
   ],
   "source": [
    "def apply_dcdot_dp(c, p, h):\n",
    "    return 2.0 * h * np.dot(c, c) + 2.0 * c * np.dot(h, c) # equals cdot(c,h)\n",
    "\n",
    "m = 10\n",
    "c0 = np.random.randn(m)\n",
    "p0 = np.random.randn(m)\n",
    "cd0 = cdot(c0, p0)\n",
    "h = np.random.randn(m)\n",
    "dcdot_dp_h = apply_dcdot_dp(c0, p0, h)\n",
    "\n",
    "s = 1e-6\n",
    "p1 = p0 + s*h\n",
    "cd1 = cdot(c0, p1)\n",
    "\n",
    "dcdot_dp_h_diff = (cd1 - cd0) / s\n",
    "\n",
    "err_dcdot_dp_h = np.linalg.norm(dcdot_dp_h_diff - dcdot_dp_h) / np.linalg.norm(dcdot_dp_h_diff)\n",
    "print('s=', s, ', err_dcdot_dp_h=', err_dcdot_dp_h)"
   ]
  },
  {
   "cell_type": "code",
   "execution_count": 12,
   "id": "c5a58407",
   "metadata": {},
   "outputs": [
    {
     "name": "stdout",
     "output_type": "stream",
     "text": [
      "s= 1e-06 , err_dpdot_dp_h= 3.6540845796650644e-06\n"
     ]
    }
   ],
   "source": [
    "def apply_dpdot_dp(c, p, h):\n",
    "    return -4.0 * c * np.dot(h, p) - 2.0 * h * np.dot(c, p) - 2.0 * p * np.dot(c, h)\n",
    "\n",
    "m = 10\n",
    "c0 = np.random.randn(m)\n",
    "p0 = np.random.randn(m)\n",
    "pd0 = pdot(c0, p0)\n",
    "h = np.random.randn(m)\n",
    "dpdot_dp_h = apply_dpdot_dp(c0, p0, h)\n",
    "\n",
    "s = 1e-6\n",
    "p1 = p0 + s*h\n",
    "pd1 = pdot(c0, p1)\n",
    "\n",
    "dpdot_dp_h_diff = (pd1 - pd0) / s\n",
    "\n",
    "err_dpdot_dp_h = np.linalg.norm(dpdot_dp_h_diff - dpdot_dp_h) / np.linalg.norm(dpdot_dp_h_diff)\n",
    "print('s=', s, ', err_dpdot_dp_h=', err_dpdot_dp_h)"
   ]
  },
  {
   "cell_type": "code",
   "execution_count": 13,
   "id": "d3dc96c6",
   "metadata": {},
   "outputs": [
    {
     "name": "stdout",
     "output_type": "stream",
     "text": [
      "err_apply_dcdot_dp_T= -7.105427357601002e-15\n"
     ]
    }
   ],
   "source": [
    "apply_dcdot_dp_T = apply_dcdot_dp\n",
    "\n",
    "m = 10\n",
    "c0 = np.random.randn(m)\n",
    "p0 = np.random.randn(m)\n",
    "\n",
    "u = np.random.randn(m)\n",
    "v = np.random.randn(m)\n",
    "\n",
    "err_apply_dcdot_dp_T = np.dot(apply_dcdot_dp(c0, p0, u), v) - np.dot(u, apply_dcdot_dp_T(c0, p0, v))\n",
    "print('err_apply_dcdot_dp_T=', err_apply_dcdot_dp_T)"
   ]
  },
  {
   "cell_type": "code",
   "execution_count": 14,
   "id": "9e5c7e0b",
   "metadata": {},
   "outputs": [
    {
     "name": "stdout",
     "output_type": "stream",
     "text": [
      "err_apply_dpdot_dp_T= 7.105427357601002e-15\n"
     ]
    }
   ],
   "source": [
    "def apply_dpdot_dp_T(c, p, h):\n",
    "    return -4.0 * p * np.dot(h, c) - 2.0 * h * np.dot(c, p) - 2.0 * c * np.dot(p, h)\n",
    "\n",
    "m = 10\n",
    "c0 = np.random.randn(m)\n",
    "p0 = np.random.randn(m)\n",
    "\n",
    "u = np.random.randn(m)\n",
    "v = np.random.randn(m)\n",
    "\n",
    "err_apply_dpdot_dp_T = np.dot(apply_dpdot_dp(c0, p0, u), v) - np.dot(u, apply_dpdot_dp_T(c0, p0, v))\n",
    "print('err_apply_dpdot_dp_T=', err_apply_dpdot_dp_T)"
   ]
  },
  {
   "cell_type": "code",
   "execution_count": 15,
   "id": "ab78c91e",
   "metadata": {},
   "outputs": [
    {
     "name": "stdout",
     "output_type": "stream",
     "text": [
      "s= 1e-06 , err_dcdotdot_dp_h= 4.579005358851873e-07\n"
     ]
    }
   ],
   "source": [
    "def apply_dcdotdot_dp(c, p, h):\n",
    "    cd = cdot(c, p)\n",
    "    pd = pdot(c, p)\n",
    "    dcd = apply_dcdot_dp(c, p, h)\n",
    "    dpd = apply_dpdot_dp(c, p, h)\n",
    "    t1  = 2.0 * dpd * np.dot(c,   c)\n",
    "    t2a = 4.0 * h   * np.dot(cd,  c) \n",
    "    t2b = 4.0 * p   * np.dot(dcd, c)\n",
    "    t3a = 2.0 * dcd * np.dot(p,   c)\n",
    "    t3b = 2.0 * cd  * np.dot(h,   c)\n",
    "    t4  = 2.0 * c   * np.dot(dpd, c)\n",
    "    t5a = 2.0 * c   * np.dot(h,   cd)\n",
    "    t5b = 2.0 * c   * np.dot(p,   dcd)\n",
    "    return t1 + t2a + t2b + t3a + t3b + t4 + t5a + t5b\n",
    "\n",
    "m = 10\n",
    "c0 = np.random.randn(m)\n",
    "p0 = np.random.randn(m)\n",
    "cdd0 = cdotdot(c0, p0)\n",
    "h = np.random.randn(m)\n",
    "dcdotdot_dp_h = apply_dcdotdot_dp(c0, p0, h)\n",
    "\n",
    "s = 1e-6\n",
    "p1 = p0 + s*h\n",
    "cdd1 = cdotdot(c0, p1)\n",
    "\n",
    "dcdotdot_dp_h_diff = (cdd1 - cdd0) / s\n",
    "\n",
    "err_dcdotdot_dp_h = np.linalg.norm(dcdotdot_dp_h_diff - dcdotdot_dp_h) / np.linalg.norm(dcdotdot_dp_h_diff)\n",
    "print('s=', s, ', err_dcdotdot_dp_h=', err_dcdotdot_dp_h)"
   ]
  },
  {
   "cell_type": "code",
   "execution_count": 16,
   "id": "6179e2ec",
   "metadata": {},
   "outputs": [
    {
     "name": "stdout",
     "output_type": "stream",
     "text": [
      "err_apply_dcdotdot_dp_T= 2.2737367544323206e-13\n"
     ]
    }
   ],
   "source": [
    "def apply_dcdotdot_dp_T(c, p, h):\n",
    "    cd = cdot(c, p)\n",
    "    pd = pdot(c, p)\n",
    "    p_cph = apply_dpdot_dp_T(c, p, h)\n",
    "    c_cpc = apply_dcdot_dp_T(c, p, c)\n",
    "    c_cph = apply_dcdot_dp_T(c, p, h)\n",
    "    p_cpc = apply_dpdot_dp_T(c, p, c)\n",
    "    c_cpp = apply_dcdot_dp_T(c, p, p)\n",
    "    t1  = 2.0 * p_cph * np.dot(c,  c)\n",
    "    t2a = 4.0 * h     * np.dot(cd, c) \n",
    "    t2b = 4.0 * c_cpc * np.dot(p,  h)\n",
    "    t3a = 2.0 * c_cph * np.dot(p,  c)\n",
    "    t3b = 2.0 * c     * np.dot(cd, h)\n",
    "    t4  = 2.0 * p_cpc * np.dot(c,  h)\n",
    "    t5a = 2.0 * cd    * np.dot(c,  h)\n",
    "    t5b = 2.0 * c_cpp * np.dot(c,  h)\n",
    "    return t1 + t2a + t2b + t3a + t3b + t4 + t5a + t5b\n",
    "    \n",
    "m = 10\n",
    "c0 = np.random.randn(m)\n",
    "p0 = np.random.randn(m)\n",
    "\n",
    "u = np.random.randn(m)\n",
    "v = np.random.randn(m)\n",
    "\n",
    "err_apply_dcdotdot_dp_T = np.dot(apply_dcdotdot_dp(c0, p0, u), v) - np.dot(u, apply_dcdotdot_dp_T(c0, p0, v))\n",
    "print('err_apply_dcdotdot_dp_T=', err_apply_dcdotdot_dp_T)"
   ]
  },
  {
   "cell_type": "code",
   "execution_count": 17,
   "id": "8d8d5f99",
   "metadata": {},
   "outputs": [
    {
     "data": {
      "image/png": "[encoded data removed]",
      "text/plain": [
       "<Figure size 720x720 with 1 Axes>"
      ]
     },
     "metadata": {
      "needs_background": "light"
     },
     "output_type": "display_data"
    }
   ],
   "source": [
    "def exp_map_taylor0(c, p, t):\n",
    "    return c\n",
    "\n",
    "def exp_map_taylor1(c, p, t):\n",
    "    return c + t * cdot(c,p)\n",
    "\n",
    "def exp_map_taylor2(c, p, t):\n",
    "    return c + t * cdot(c,p) + (t**2 / 2.0) * cdotdot(c,p)\n",
    "\n",
    "m = 10\n",
    "c0 = np.random.randn(m)\n",
    "p0 = np.random.randn(m)\n",
    "\n",
    "ss = np.logspace(-10, 0, 100)\n",
    "all_err_taylor0 = np.zeros(len(ss))\n",
    "all_err_taylor1 = np.zeros(len(ss))\n",
    "all_err_taylor2 = np.zeros(len(ss))\n",
    "for ii in range(len(ss)):\n",
    "    s = ss[ii]\n",
    "    es_true = exp_map(c0, p0, s)[0]\n",
    "    es0 = exp_map_taylor0(c0, p0, s)\n",
    "    es1 = exp_map_taylor1(c0, p0, s)\n",
    "    es2 = exp_map_taylor2(c0, p0, s)\n",
    "\n",
    "    err_taylor0 = np.linalg.norm(es0 - es_true) / np.linalg.norm(es_true)\n",
    "    err_taylor1 = np.linalg.norm(es1 - es_true) / np.linalg.norm(es_true)\n",
    "    err_taylor2 = np.linalg.norm(es2 - es_true) / np.linalg.norm(es_true)\n",
    "    \n",
    "    all_err_taylor0[ii] = err_taylor0\n",
    "    all_err_taylor1[ii] = err_taylor1\n",
    "    all_err_taylor2[ii] = err_taylor2\n",
    "    \n",
    "#     print('s=', s, ', err_taylor0=', err_taylor0, ', err_taylor1=', err_taylor1, ', err_taylor2=', err_taylor2)\n",
    "\n",
    "plt.figure(figsize=(10,10))\n",
    "plt.loglog(ss, all_err_taylor0, 'k')\n",
    "plt.loglog(ss, all_err_taylor1, 'b')\n",
    "plt.loglog(ss, all_err_taylor2, 'r')\n",
    "plt.loglog(ss, ss, '--k')\n",
    "plt.loglog(ss, ss**2, '--b')\n",
    "plt.loglog(ss, ss**3, '--r')\n",
    "plt.ylim(1e-15, 1e1)\n",
    "plt.title('Exponential map taylor series error')\n",
    "plt.xlabel('s')\n",
    "plt.ylabel('taylor error')\n",
    "plt.legend(['Taylor0', 'Taylor1', 'Taylor2', 's', 's**2', 's**3'])\n",
    "plt.gca().set_aspect('equal')"
   ]
  },
  {
   "cell_type": "code",
   "execution_count": 18,
   "id": "4e652cbe",
   "metadata": {},
   "outputs": [
    {
     "name": "stdout",
     "output_type": "stream",
     "text": [
      "s= 1e-07 , err_deT0_dp= 27.364193213957748\n",
      "s= 1e-07 , err_deT1_dp= 5.707896585444431e-07\n",
      "s= 1e-07 , err_deT2_dp= 5.707896585444431e-07\n"
     ]
    }
   ],
   "source": [
    "def apply_dexp_map_taylor0_dp(c, p, t, h): # apply to h\n",
    "    return np.zeros(c.shape)\n",
    "\n",
    "def apply_dexp_map_taylor1_dp(c, p, t, h): # apply to h\n",
    "    return t * apply_dcdot_dp(c, p, h)\n",
    "\n",
    "def apply_dexp_map_taylor2_dp(c, p, t, h): # apply to h\n",
    "    return t * apply_dcdot_dp(c, p, h) + (t**2 / 2.0) * apply_dcdotdot_dp(c, p, h)\n",
    "\n",
    "\n",
    "m = 10\n",
    "c0 = np.random.randn(m)\n",
    "# p0 = np.random.randn(m)\n",
    "p0 = np.zeros(m)\n",
    "T = 0.7\n",
    "eT0_0 = exp_map(c0, p0, T)[0]\n",
    "eT1_0 = exp_map(c0, p0, T)[0]\n",
    "eT2_0 = exp_map(c0, p0, T)[0]\n",
    "# eT0_0 = exp_map_taylor0(c0, p0, T)\n",
    "# eT1_0 = exp_map_taylor1(c0, p0, T)\n",
    "# eT2_0 = exp_map_taylor2(c0, p0, T)\n",
    "\n",
    "h = np.random.randn(m)\n",
    "deT0_dp = apply_dexp_map_taylor0_dp(c0, p0, T, h)\n",
    "deT1_dp = apply_dexp_map_taylor1_dp(c0, p0, T, h)\n",
    "deT2_dp = apply_dexp_map_taylor2_dp(c0, p0, T, h)\n",
    "\n",
    "s = 1e-7\n",
    "p1 = p0 + s * h\n",
    "eT0_1 = exp_map(c0, p1, T)[0]\n",
    "eT1_1 = exp_map(c0, p1, T)[0]\n",
    "eT2_1 = exp_map(c0, p1, T)[0]\n",
    "# eT0_1 = exp_map_taylor0(c0, p1, T)\n",
    "# eT1_1 = exp_map_taylor1(c0, p1, T)\n",
    "# eT2_1 = exp_map_taylor2(c0, p1, T)\n",
    "\n",
    "\n",
    "deT0_dp_diff = (eT0_1 - eT0_0) / s\n",
    "deT1_dp_diff = (eT1_1 - eT1_0) / s\n",
    "deT2_dp_diff = (eT2_1 - eT2_0) / s\n",
    "\n",
    "err_deT0_dp = np.linalg.norm(deT0_dp_diff - deT0_dp) # should be exact zero\n",
    "err_deT1_dp = np.linalg.norm(deT1_dp_diff - deT1_dp) / np.linalg.norm(deT1_dp_diff)\n",
    "err_deT2_dp = np.linalg.norm(deT2_dp_diff - deT2_dp) / np.linalg.norm(deT2_dp_diff)\n",
    "\n",
    "print('s=', s, ', err_deT0_dp=', err_deT0_dp)\n",
    "print('s=', s, ', err_deT1_dp=', err_deT1_dp)\n",
    "print('s=', s, ', err_deT2_dp=', err_deT2_dp)"
   ]
  },
  {
   "cell_type": "code",
   "execution_count": 19,
   "id": "19da314a",
   "metadata": {},
   "outputs": [
    {
     "name": "stdout",
     "output_type": "stream",
     "text": [
      "err_apply_dexp_map_taylor0_dp_T= 0.0\n",
      "err_apply_dexp_map_taylor1_dp_T= -3.552713678800501e-15\n",
      "err_apply_dexp_map_taylor2_dp_T= 2.2737367544323206e-13\n"
     ]
    }
   ],
   "source": [
    "def apply_dexp_map_taylor0_dp_T(c, p, t, h): # apply to h\n",
    "    return np.zeros(c.shape)\n",
    "\n",
    "def apply_dexp_map_taylor1_dp_T(c, p, t, h): # apply to h\n",
    "    return t * apply_dcdot_dp_T(c, p, h)\n",
    "\n",
    "def apply_dexp_map_taylor2_dp_T(c, p, t, h): # apply to h\n",
    "    return t * apply_dcdot_dp_T(c, p, h) + (t**2 / 2.0) * apply_dcdotdot_dp_T(c, p, h)\n",
    "\n",
    "m = 10\n",
    "c0 = np.random.randn(m)\n",
    "p0 = np.random.randn(m)\n",
    "T=0.7\n",
    "\n",
    "u = np.random.randn(m)\n",
    "v = np.random.randn(m)\n",
    "\n",
    "err_apply_dexp_map_taylor0_dp_T = (np.dot(apply_dexp_map_taylor0_dp(c0, p0, T, u), v)\n",
    "                                 - np.dot(u, apply_dexp_map_taylor0_dp_T(c0, p0,T,  v)))\n",
    "print('err_apply_dexp_map_taylor0_dp_T=', err_apply_dexp_map_taylor0_dp_T)\n",
    "\n",
    "err_apply_dexp_map_taylor1_dp_T = (np.dot(apply_dexp_map_taylor1_dp(c0, p0, T, u), v)\n",
    "                                 - np.dot(u, apply_dexp_map_taylor1_dp_T(c0, p0,T,  v)))\n",
    "print('err_apply_dexp_map_taylor1_dp_T=', err_apply_dexp_map_taylor1_dp_T)\n",
    "\n",
    "err_apply_dexp_map_taylor2_dp_T = (np.dot(apply_dexp_map_taylor2_dp(c0, p0, T, u), v)\n",
    "                                 - np.dot(u, apply_dexp_map_taylor2_dp_T(c0, p0,T,  v)))\n",
    "print('err_apply_dexp_map_taylor2_dp_T=', err_apply_dexp_map_taylor2_dp_T)"
   ]
  },
  {
   "cell_type": "code",
   "execution_count": 151,
   "id": "c7a570b6",
   "metadata": {},
   "outputs": [
    {
     "name": "stdout",
     "output_type": "stream",
     "text": [
      "err_apply_BB_adjc= -1.5631940186722204e-13\n",
      "err_apply_BB_T_adjc= 3.694822225952521e-13\n",
      "err_apply_sqrtA_adjc= 5.684341886080802e-14\n",
      "err_apply_sqrtA_T_adjc= -5.684341886080802e-14\n",
      "err_apply_sqrtA= 4.460464135265767e-16\n",
      "err_apply_sqrtA_T= 4.771585782393967e-16\n",
      "err_apply_A= 6.309313738336913e-16\n"
     ]
    }
   ],
   "source": [
    "N = 100 # number of rows/cols of basis matrices\n",
    "m = 7 # number of basis matrices\n",
    "r = 2 # number of probing vectors\n",
    "\n",
    "BB = [np.random.randn(N,N) for _ in range(m)] # basis matrices\n",
    "def apply_Bk(x, k):\n",
    "    return np.dot(BB[k], x)\n",
    "\n",
    "def apply_Bk_T(x, k):\n",
    "    return np.dot(BB[k].T, x)\n",
    "\n",
    "def apply_BB(X, c):\n",
    "    return np.array([c[k] * apply_Bk(X, k) for k in range(m)])\n",
    "\n",
    "def apply_BB_adjc(X, Z):\n",
    "    return np.array([np.sum(X * apply_Bk_T(Z, k)) for k in range(m)])\n",
    "\n",
    "X = np.random.randn(N,r)\n",
    "Z = np.random.randn(N,r)\n",
    "c = np.random.randn(m)\n",
    "\n",
    "err_apply_BB_adjc = np.sum(apply_BB(X, c) * Z) - np.sum(c * apply_BB_adjc(X, Z))\n",
    "print('err_apply_BB_adjc=', err_apply_BB_adjc)\n",
    "\n",
    "def apply_BB_T(X, c):\n",
    "    return np.array([c[k] * apply_Bk_T(X, k) for k in range(m)])\n",
    "\n",
    "def apply_BB_T_adjc(X, Z):\n",
    "    return np.array([np.sum(X * apply_Bk(Z, k)) for k in range(m)])\n",
    "\n",
    "X = np.random.randn(N,r)\n",
    "Z = np.random.randn(N,r)\n",
    "c = np.random.randn(m)\n",
    "\n",
    "err_apply_BB_T_adjc = np.sum(apply_BB_T(X, c) * Z) - np.sum(c * apply_BB_T_adjc(X, Z))\n",
    "print('err_apply_BB_T_adjc=', err_apply_BB_T_adjc)\n",
    "\n",
    "\n",
    "def apply_sqrtA(X, c):\n",
    "    return np.sum(apply_BB(X, c), axis=0)\n",
    "\n",
    "def apply_sqrtA_adjc(X, Z):\n",
    "    return apply_BB_adjc(X, Z)\n",
    "\n",
    "X = np.random.randn(N,r)\n",
    "Z = np.random.randn(N,r)\n",
    "c = np.random.randn(m)\n",
    "\n",
    "err_apply_sqrtA_adjc = np.sum(apply_sqrtA(X, c) * Z) - np.sum(c * apply_sqrtA_adjc(X, Z))\n",
    "print('err_apply_sqrtA_adjc=', err_apply_sqrtA_adjc)\n",
    "\n",
    "\n",
    "def apply_sqrtA_T(x, c):\n",
    "    return np.sum(apply_BB_T(x, c), axis=0)\n",
    "\n",
    "def apply_sqrtA_T_adjc(X, Z):\n",
    "    return apply_BB_T_adjc(X, Z)\n",
    "\n",
    "X = np.random.randn(N,r)\n",
    "Z = np.random.randn(N,r)\n",
    "c = np.random.randn(m)\n",
    "\n",
    "err_apply_sqrtA_T_adjc = np.sum(apply_sqrtA_T(X, c) * Z) - np.sum(c * apply_sqrtA_T_adjc(X, Z))\n",
    "print('err_apply_sqrtA_T_adjc=', err_apply_sqrtA_T_adjc)\n",
    "\n",
    "apply_A = lambda x, c: apply_sqrtA_T(apply_sqrtA(x, c), c)\n",
    "\n",
    "\n",
    "c_true = np.random.randn(m)\n",
    "\n",
    "sqrtA_true = np.zeros((N,N))\n",
    "for ii in range(m):\n",
    "    sqrtA_true += c_true[ii] * BB[ii]\n",
    "\n",
    "x = np.random.randn(N)\n",
    "y_true = np.dot(sqrtA_true, x)\n",
    "y = apply_sqrtA(x, c_true)\n",
    "err_apply_sqrtA = np.linalg.norm(y_true - y) / np.linalg.norm(y_true)\n",
    "print('err_apply_sqrtA=', err_apply_sqrtA)\n",
    "\n",
    "\n",
    "x = np.random.randn(N)\n",
    "y_true = np.dot(sqrtA_true.T, x)\n",
    "y = apply_sqrtA_T(x, c_true)\n",
    "err_apply_sqrtA_T = np.linalg.norm(y_true - y) / np.linalg.norm(y_true)\n",
    "print('err_apply_sqrtA_T=', err_apply_sqrtA_T)\n",
    "\n",
    "    \n",
    "A_true = np.dot(sqrtA_true.T, sqrtA_true)\n",
    "    \n",
    "X = np.random.randn(N, r)\n",
    "Y1 = np.dot(A_true, X)\n",
    "Y2 = apply_A(X, c_true)\n",
    "err_apply_A = np.linalg.norm(Y1 - Y2) / np.linalg.norm(Y2)\n",
    "print('err_apply_A=', err_apply_A)"
   ]
  },
  {
   "cell_type": "code",
   "execution_count": 152,
   "id": "2cc65d03",
   "metadata": {},
   "outputs": [
    {
     "name": "stdout",
     "output_type": "stream",
     "text": [
      "err_sqrtA_true_Omega= 0.0\n"
     ]
    }
   ],
   "source": [
    "Omega = np.random.randn(N,r)\n",
    "Y = apply_A(Omega, c_true)\n",
    "\n",
    "BB_Omega = np.array([apply_Bk(Omega, k) for k in range(m)])\n",
    "sqrtA_true_Omega = np.sum([c_true[k] * BB_Omega[k,:,:] for k in range(m)], axis=0)\n",
    "err_sqrtA_true_Omega = np.linalg.norm(apply_sqrtA(Omega, c_true) - sqrtA_true_Omega)\n",
    "print('err_sqrtA_true_Omega=', err_sqrtA_true_Omega)"
   ]
  },
  {
   "cell_type": "code",
   "execution_count": 154,
   "id": "9bab0761",
   "metadata": {},
   "outputs": [
    {
     "name": "stdout",
     "output_type": "stream",
     "text": [
      "s= 1e-07 , err_Jac= 9.564747533484047e-08\n"
     ]
    }
   ],
   "source": [
    "# fwd = lambda c: apply_A(Omega, c)\n",
    "fwd = lambda c: apply_sqrtA_T(apply_sqrtA(Omega, c), c)\n",
    "\n",
    "apply_Jac = lambda c, h: apply_sqrtA_T(apply_sqrtA(Omega, c), h) + apply_sqrtA_T(apply_sqrtA(Omega, h), c) # good\n",
    "\n",
    "# def apply_Jac(c, h):\n",
    "#     R1a = apply_BB(Omega, h)\n",
    "#     R1b = np.sum(R1a, axis=0)\n",
    "#     R1c = apply_BB_T(R1b, c)\n",
    "#     R1d = np.sum(R1c, axis=0)\n",
    "    \n",
    "#     R2a = apply_BB(Omega, c)\n",
    "#     R2b = np.sum(R2a, axis=0)\n",
    "#     R2c = apply_BB_T(R2b, h)\n",
    "#     R2d = np.sum(R2c, axis=0)\n",
    "    \n",
    "#     return R1d + R2d\n",
    "\n",
    "\n",
    "c0 = np.random.randn(m)\n",
    "f0 = fwd(c0)\n",
    "\n",
    "h = np.random.randn(m)\n",
    "df0 = apply_Jac(c0, h)\n",
    "\n",
    "s = 1e-7\n",
    "c1 = c0 + s*h\n",
    "f1 = fwd(c1)\n",
    "\n",
    "df0_diff = (f1 - f0) / s\n",
    "err_Jac = np.linalg.norm(df0_diff - df0) / np.linalg.norm(df0_diff)\n",
    "print('s=', s, ', err_Jac=', err_Jac)"
   ]
  },
  {
   "cell_type": "code",
   "execution_count": 160,
   "id": "ed400f49",
   "metadata": {},
   "outputs": [
    {
     "name": "stdout",
     "output_type": "stream",
     "text": [
      "err_apply_Jac_T= -3.637978807091713e-12\n"
     ]
    }
   ],
   "source": [
    "apply_Jac = lambda c, h: apply_sqrtA_T(apply_sqrtA(Omega, c), h) + apply_sqrtA_T(apply_sqrtA(Omega, h), c)\n",
    "\n",
    "def apply_Jac_T(c, H):\n",
    "    t1 = apply_sqrtA_T_adjc(apply_sqrtA(Omega, c), H)\n",
    "    t2 = apply_sqrtA_adjc(Omega, apply_sqrtA(H, c))\n",
    "    return t1 + t2\n",
    "\n",
    "c = np.random.randn(m)\n",
    "\n",
    "h = np.random.randn(m)\n",
    "H = np.random.randn(N,r)\n",
    "\n",
    "err_apply_Jac_T = np.sum(apply_Jac(c,h) * H) - np.sum(h * apply_Jac_T(c,H))\n",
    "print('err_apply_Jac_T=', err_apply_Jac_T)"
   ]
  },
  {
   "cell_type": "code",
   "execution_count": 162,
   "id": "2125ae78",
   "metadata": {},
   "outputs": [
    {
     "data": {
      "text/plain": [
       "array([-8594.80151423,  2209.49444418,  -828.34557448,  7353.94504072,\n",
       "       -8317.50412395, -3003.01640658, -6588.60934167])"
      ]
     },
     "execution_count": 162,
     "metadata": {},
     "output_type": "execute_result"
    }
   ],
   "source": [
    "apply_Jac_T(c,H)"
   ]
  },
  {
   "cell_type": "code",
   "execution_count": 163,
   "id": "30aedb7b",
   "metadata": {},
   "outputs": [
    {
     "name": "stdout",
     "output_type": "stream",
     "text": [
      "misfit_true= 0.0\n",
      "misfit0= 161981293.5192331\n"
     ]
    }
   ],
   "source": [
    "def misfit(c):\n",
    "    return 0.5 * np.linalg.norm(Y - fwd(c))**2\n",
    "\n",
    "misfit_true = misfit(c_true)\n",
    "print('misfit_true=', misfit_true)\n",
    "\n",
    "c0 = np.random.randn(m)\n",
    "misfit0 = misfit(c0)\n",
    "print('misfit0=', misfit0)"
   ]
  },
  {
   "cell_type": "code",
   "execution_count": 164,
   "id": "982c3fd4",
   "metadata": {},
   "outputs": [
    {
     "name": "stdout",
     "output_type": "stream",
     "text": [
      "s= 1e-07 , err_grad= 2.4139669694240807e-07\n"
     ]
    }
   ],
   "source": [
    "def gradient(c):\n",
    "    return -apply_Jac_T(c, Y - fwd(c))\n",
    "\n",
    "c0 = np.random.randn(m)\n",
    "J0 = misfit(c0)\n",
    "G0 = gradient(c0)\n",
    "\n",
    "h = np.random.randn(m)\n",
    "dJ = np.dot(h, G0)\n",
    "\n",
    "s = 1e-7\n",
    "c1 = c0 + s*h\n",
    "J1 = misfit(c1)\n",
    "\n",
    "dJ_diff = (J1 - J0) / s\n",
    "err_grad = np.linalg.norm(dJ_diff - dJ) / np.linalg.norm(dJ_diff)\n",
    "print('s=', s, ', err_grad=', err_grad)"
   ]
  },
  {
   "cell_type": "code",
   "execution_count": 165,
   "id": "e6d888ab",
   "metadata": {},
   "outputs": [
    {
     "data": {
      "text/plain": [
       "array([-14955716.40548722,  -9175271.66693515,   5069313.68090742,\n",
       "        -6448473.40586659,   4692121.90341706,  13556358.72594203,\n",
       "         5311569.94668794])"
      ]
     },
     "execution_count": 165,
     "metadata": {},
     "output_type": "execute_result"
    }
   ],
   "source": [
    "G0"
   ]
  },
  {
   "cell_type": "code",
   "execution_count": 96,
   "id": "c6627151",
   "metadata": {},
   "outputs": [
    {
     "data": {
      "text/plain": [
       "array([14.48824206, 14.48824206, 14.48824206, 14.48824206, 14.48824206,\n",
       "       14.48824206, 14.48824206])"
      ]
     },
     "execution_count": 96,
     "metadata": {},
     "output_type": "execute_result"
    }
   ],
   "source": [
    "gradient(c_true + 1e-6*np.random.randn(m))"
   ]
  },
  {
   "cell_type": "code",
   "execution_count": 71,
   "id": "7d6820e1",
   "metadata": {},
   "outputs": [
    {
     "data": {
      "text/plain": [
       "14415.351450389217"
      ]
     },
     "execution_count": 71,
     "metadata": {},
     "output_type": "execute_result"
    }
   ],
   "source": [
    "J0"
   ]
  },
  {
   "cell_type": "code",
   "execution_count": 74,
   "id": "5c2679c4",
   "metadata": {},
   "outputs": [
    {
     "data": {
      "text/plain": [
       "array([-4.58897143e+08, -4.58897143e+08, -4.58897143e+08, -4.58897143e+08,\n",
       "       -4.58897143e+08, -4.58897143e+08, -4.58897143e+08])"
      ]
     },
     "execution_count": 74,
     "metadata": {},
     "output_type": "execute_result"
    }
   ],
   "source": [
    "G0"
   ]
  },
  {
   "cell_type": "code",
   "execution_count": 20,
   "id": "592f20f4",
   "metadata": {},
   "outputs": [
    {
     "data": {
      "text/plain": [
       "array([  6.21709433, -17.59043425, -10.55198916,  14.93224031,\n",
       "        -5.35041907,   2.66186984,   2.05260391,   5.50357342,\n",
       "       -26.77293872, -44.7550824 ])"
      ]
     },
     "execution_count": 20,
     "metadata": {},
     "output_type": "execute_result"
    }
   ],
   "source": [
    "deT0_dp_diff"
   ]
  },
  {
   "cell_type": "code",
   "execution_count": 21,
   "id": "a9589a64",
   "metadata": {},
   "outputs": [
    {
     "data": {
      "text/plain": [
       "array([0., 0., 0., 0., 0., 0., 0., 0., 0., 0.])"
      ]
     },
     "execution_count": 21,
     "metadata": {},
     "output_type": "execute_result"
    }
   ],
   "source": [
    "deT0_dp"
   ]
  },
  {
   "cell_type": "code",
   "execution_count": 22,
   "id": "26a346c9",
   "metadata": {},
   "outputs": [],
   "source": [
    "err_taylor0 = np.linalg.norm(es0 - es_true) / np.linalg.norm(es_true)"
   ]
  },
  {
   "cell_type": "code",
   "execution_count": null,
   "id": "22849a20",
   "metadata": {},
   "outputs": [],
   "source": []
  },
  {
   "cell_type": "code",
   "execution_count": null,
   "id": "5e47d9a5",
   "metadata": {},
   "outputs": [],
   "source": []
  },
  {
   "cell_type": "code",
   "execution_count": 23,
   "id": "9db151ac",
   "metadata": {},
   "outputs": [
    {
     "data": {
      "text/plain": [
       "array([30.72683104,  4.83708814, 31.14437908, 12.70310413, 20.65720759,\n",
       "       11.50276548, -1.57899082, 16.97687577, -6.32930321,  9.86899865])"
      ]
     },
     "execution_count": 23,
     "metadata": {},
     "output_type": "execute_result"
    }
   ],
   "source": [
    "dcdot_dp_h_diff"
   ]
  },
  {
   "cell_type": "code",
   "execution_count": 24,
   "id": "3586a28f",
   "metadata": {},
   "outputs": [
    {
     "data": {
      "text/plain": [
       "array([ 150.93112417,   -0.50971249,  203.84313268, -277.44127409,\n",
       "        -11.1048322 ,  182.73504367, -270.44446892,   39.62452274,\n",
       "          7.87887754,    3.95852442])"
      ]
     },
     "execution_count": 24,
     "metadata": {},
     "output_type": "execute_result"
    }
   ],
   "source": [
    "cdd0_diff"
   ]
  },
  {
   "cell_type": "code",
   "execution_count": 25,
   "id": "7dfb60a8",
   "metadata": {},
   "outputs": [
    {
     "data": {
      "text/plain": [
       "array([  298.75575814,   237.89183422,   567.86585145,  -155.89609383,\n",
       "        -820.62665   ,   431.93226695, -1241.26619036,  -730.74148653,\n",
       "        -369.79267667, -1813.65430475])"
      ]
     },
     "execution_count": 25,
     "metadata": {},
     "output_type": "execute_result"
    }
   ],
   "source": [
    "cdd0"
   ]
  },
  {
   "cell_type": "code",
   "execution_count": null,
   "id": "c0fa37d4",
   "metadata": {},
   "outputs": [],
   "source": []
  },
  {
   "cell_type": "code",
   "execution_count": 26,
   "id": "8d665c8e",
   "metadata": {},
   "outputs": [
    {
     "ename": "NameError",
     "evalue": "name 'cc100' is not defined",
     "output_type": "error",
     "traceback": [
      "\u001b[0;31m---------------------------------------------------------------------------\u001b[0m",
      "\u001b[0;31mNameError\u001b[0m                                 Traceback (most recent call last)",
      "\u001b[0;32m/tmp/ipykernel_631596/3173564314.py\u001b[0m in \u001b[0;36m<module>\u001b[0;34m\u001b[0m\n\u001b[0;32m----> 1\u001b[0;31m \u001b[0mcc100\u001b[0m\u001b[0;34m[\u001b[0m\u001b[0;34m:\u001b[0m\u001b[0;34m,\u001b[0m\u001b[0;34m-\u001b[0m\u001b[0;36m1\u001b[0m\u001b[0;34m]\u001b[0m\u001b[0;34m\u001b[0m\u001b[0;34m\u001b[0m\u001b[0m\n\u001b[0m",
      "\u001b[0;31mNameError\u001b[0m: name 'cc100' is not defined"
     ]
    }
   ],
   "source": [
    "cc100[:,-1]"
   ]
  },
  {
   "cell_type": "code",
   "execution_count": null,
   "id": "8898979a",
   "metadata": {},
   "outputs": [],
   "source": [
    "plt.plot(cc[0,:], cc[1,:])"
   ]
  },
  {
   "cell_type": "code",
   "execution_count": null,
   "id": "d4c31465",
   "metadata": {},
   "outputs": [],
   "source": [
    "cc"
   ]
  }
 ],
 "metadata": {
  "kernelspec": {
   "display_name": "Python 3 (ipykernel)",
   "language": "python",
   "name": "python3"
  },
  "language_info": {
   "codemirror_mode": {
    "name": "ipython",
    "version": 3
   },
   "file_extension": ".py",
   "mimetype": "text/x-python",
   "name": "python",
   "nbconvert_exporter": "python",
   "pygments_lexer": "ipython3",
   "version": "3.9.7"
  }
 },
 "nbformat": 4,
 "nbformat_minor": 5
}
