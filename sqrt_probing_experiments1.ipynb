{
 "cells": [
  {
   "cell_type": "code",
   "execution_count": 1,
   "id": "af1b3d78",
   "metadata": {},
   "outputs": [],
   "source": [
    "import numpy as np\n",
    "from scipy.integrate import solve_ivp\n",
    "import matplotlib.pyplot as plt"
   ]
  },
  {
   "cell_type": "code",
   "execution_count": 2,
   "id": "f2cd62c9",
   "metadata": {},
   "outputs": [
    {
     "name": "stdout",
     "output_type": "stream",
     "text": [
      "s= 1e-06 , err_df_dc= 5.676200915456631e-07\n"
     ]
    }
   ],
   "source": [
    "m = 10\n",
    "\n",
    "def f(c):\n",
    "    return np.outer(c, c)\n",
    "\n",
    "def apply_df_dc(c, h):\n",
    "    return  np.outer(c, h) + np.outer(h, c)\n",
    "\n",
    "c0 = np.random.randn(m)\n",
    "f0 = f(c0)\n",
    "h = np.random.randn(m)\n",
    "df_dc_h = apply_df_dc(c0, h)\n",
    "\n",
    "s = 1e-6\n",
    "c1 = c0 + s*h\n",
    "f1 = f(c1)\n",
    "\n",
    "df_dc_h_diff = (f1 - f0) / s\n",
    "err_df_dc = np.linalg.norm(df_dc_h_diff - df_dc_h) / np.linalg.norm(df_dc_h_diff)\n",
    "print('s=', s, ', err_df_dc=', err_df_dc)"
   ]
  },
  {
   "cell_type": "code",
   "execution_count": 3,
   "id": "11d40609",
   "metadata": {},
   "outputs": [
    {
     "name": "stdout",
     "output_type": "stream",
     "text": [
      "err_G= 3.3267478048986903e-16\n"
     ]
    }
   ],
   "source": [
    "def G(c):\n",
    "    return 2.0 * np.dot(c, c) * np.eye(len(c)) + 2.0 * np.outer(c, c)\n",
    "\n",
    "u = np.random.randn(m)\n",
    "v = np.random.randn(m)\n",
    "\n",
    "IP_true = np.sum(apply_df_dc(c0, u) * apply_df_dc(c0, v))\n",
    "\n",
    "G0 = G(c0)\n",
    "IP = np.dot(u, np.dot(G0, v))\n",
    "\n",
    "err_G = np.linalg.norm(IP_true - IP) / np.linalg.norm(IP_true)\n",
    "print('err_G=', err_G)"
   ]
  },
  {
   "cell_type": "code",
   "execution_count": 4,
   "id": "a548a3f4",
   "metadata": {},
   "outputs": [
    {
     "name": "stdout",
     "output_type": "stream",
     "text": [
      "err_hamiltonian= 1.8518971656595465e-16\n"
     ]
    }
   ],
   "source": [
    "def H(c, p):\n",
    "    return np.dot(c, c) * np.dot(p, p) + np.dot(c, p)**2\n",
    "\n",
    "\n",
    "p0 = np.random.randn(m)\n",
    "H0 = H(c0, p0)\n",
    "H0_true = 0.5 * np.dot(p0, np.dot(G(c0), p0))\n",
    "\n",
    "err_hamiltonian = np.linalg.norm(H0 - H0_true) / np.linalg.norm(H0_true)\n",
    "print('err_hamiltonian=', err_hamiltonian)\n"
   ]
  },
  {
   "cell_type": "code",
   "execution_count": 5,
   "id": "1c88d24d",
   "metadata": {},
   "outputs": [
    {
     "name": "stdout",
     "output_type": "stream",
     "text": [
      "s= 1e-06 , err_dH_dc= 1.1715774339057371e-06\n"
     ]
    }
   ],
   "source": [
    "def dH_dc(c, p):\n",
    "    return 2.0 * c * np.dot(p, p) + 2.0 * p * np.dot(c, p)\n",
    "\n",
    "c0 = np.random.randn(m)\n",
    "p0 = np.random.randn(m)\n",
    "H0 = H(c0, p0)\n",
    "\n",
    "h = np.random.randn(m)\n",
    "dH_dc_h = np.dot(dH_dc(c0, p0), h)\n",
    "\n",
    "s = 1e-6\n",
    "c1 = c0 + s*h\n",
    "\n",
    "H1 = H(c1, p0)\n",
    "dH_dc_h_diff = (H1 - H0) / s\n",
    "\n",
    "err_dH_dc = np.linalg.norm(dH_dc_h_diff - dH_dc_h) / np.linalg.norm(dH_dc_h_diff)\n",
    "print('s=', s, ', err_dH_dc=', err_dH_dc)"
   ]
  },
  {
   "cell_type": "code",
   "execution_count": 6,
   "id": "9e014dee",
   "metadata": {},
   "outputs": [
    {
     "name": "stdout",
     "output_type": "stream",
     "text": [
      "s= 1e-06 , err_dH_dp= 0.0016457947063336599\n"
     ]
    }
   ],
   "source": [
    "def dH_dp(c, p):\n",
    "    return 2.0 * p * np.dot(c, c) + 2.0 * c * np.dot(p, c)\n",
    "\n",
    "c0 = np.random.randn(m)\n",
    "p0 = np.random.randn(m)\n",
    "H0 = H(c0, p0)\n",
    "\n",
    "h = np.random.randn(m)\n",
    "dH_dp_h = np.dot(dH_dp(c0, p0), h)\n",
    "\n",
    "s = 1e-6\n",
    "p1 = p0 + s*h\n",
    "\n",
    "H1 = H(c0, p1)\n",
    "dH_dp_h_diff = (H1 - H0) / s\n",
    "\n",
    "err_dH_dp = np.linalg.norm(dH_dp_h_diff - dH_dp_h) / np.linalg.norm(dH_dp_h_diff)\n",
    "print('s=', s, ', err_dH_dp=', err_dH_dp)"
   ]
  },
  {
   "cell_type": "code",
   "execution_count": 7,
   "id": "1b49b02b",
   "metadata": {},
   "outputs": [
    {
     "name": "stdout",
     "output_type": "stream",
     "text": [
      "T= 1.0 , H0= 0.9211074904241792 , HT= 0.9211576531540311\n"
     ]
    },
    {
     "data": {
      "text/plain": [
       "[<matplotlib.lines.Line2D at 0x7fe4be593b80>]"
      ]
     },
     "execution_count": 7,
     "metadata": {},
     "output_type": "execute_result"
    },
    {
     "data": {
      "image/png": "[encoded data removed]",
      "text/plain": [
       "<Figure size 432x288 with 1 Axes>"
      ]
     },
     "metadata": {
      "needs_background": "light"
     },
     "output_type": "display_data"
    }
   ],
   "source": [
    "def cdot(c, p):\n",
    "    return dH_dp(c, p)\n",
    "\n",
    "def pdot(c, p):\n",
    "    return -dH_dc(c, p)\n",
    "\n",
    "def ydot(t, y):\n",
    "    m = int(len(y)/2)\n",
    "    c = y[:m]\n",
    "    p = y[m:]\n",
    "    return np.concatenate([cdot(c,p), pdot(c,p)])\n",
    "\n",
    "\n",
    "def geodesic(c0, p0, T, num_pts=None):\n",
    "    y0 = np.concatenate([c0, p0])\n",
    "    if num_pts is not None:\n",
    "        tt = np.linspace(0, T, num_pts)\n",
    "    else:\n",
    "        tt = None\n",
    "    result = solve_ivp(ydot, (0.0, T), y0, t_eval=tt, method='Radau')\n",
    "    cc = result.y[: len(c0), :]\n",
    "    pp = result.y[len(c0) :, :]\n",
    "    return cc, pp\n",
    "\n",
    "m = 2\n",
    "c0 = np.random.randn(m)\n",
    "p0 = np.random.randn(m)\n",
    "H0 = H(c0, p0)\n",
    "\n",
    "T = 1.0\n",
    "\n",
    "cc, pp = geodesic(c0, p0, T, num_pts=1000)\n",
    "\n",
    "cT = cc[:,-1]\n",
    "pT = pp[:,-1]\n",
    "\n",
    "HT = H(cT, pT)\n",
    "print('T=', T, ', H0=', H0, ', HT=', HT)\n",
    "\n",
    "plt.plot(cc[0,:], cc[1,:])\n",
    "plt.plot(cT[0], cT[1], '*r') # final point"
   ]
  },
  {
   "cell_type": "code",
   "execution_count": 8,
   "id": "8a59df28",
   "metadata": {},
   "outputs": [
    {
     "data": {
      "image/png": "[encoded data removed]",
      "text/plain": [
       "<Figure size 432x288 with 1 Axes>"
      ]
     },
     "metadata": {
      "needs_background": "light"
     },
     "output_type": "display_data"
    }
   ],
   "source": [
    "num_radii = 5\n",
    "num_theta = 15\n",
    "\n",
    "m = 2\n",
    "c0 = np.random.randn(m)\n",
    "\n",
    "thetas = np.linspace(0,2*np.pi, num_theta)\n",
    "all_p0 = [np.array([np.sin(theta), np.cos(theta)]) for theta in list(thetas)]\n",
    "\n",
    "\n",
    "T = 0.25\n",
    "\n",
    "all_cc = np.zeros((m, num_radii, num_theta))\n",
    "for ii in range(num_theta):\n",
    "    p0 = all_p0[ii]\n",
    "    cc, pp = geodesic(c0, p0, T, num_pts=num_radii)\n",
    "    all_cc[:,:,ii] = cc\n",
    "\n",
    "for ii in range(num_theta):\n",
    "    plt.plot(all_cc[0,:,ii], all_cc[1,:,ii], 'k')\n",
    "    \n",
    "for jj in range(num_radii):\n",
    "    plt.plot(all_cc[0,jj,:], all_cc[1,jj,:], 'k')"
   ]
  },
  {
   "cell_type": "code",
   "execution_count": 9,
   "id": "1708c04d",
   "metadata": {},
   "outputs": [
    {
     "data": {
      "image/png": "[encoded data removed]",
      "text/plain": [
       "<Figure size 432x288 with 1 Axes>"
      ]
     },
     "metadata": {
      "needs_background": "light"
     },
     "output_type": "display_data"
    }
   ],
   "source": [
    "def exp_map(c0, p0, t):\n",
    "    result = geodesic(c0, p0, t, num_pts=None)\n",
    "    return result[0][:,-1], result[1][:,-1]\n",
    "\n",
    "tt = np.linspace(0, T, num_radii)\n",
    "\n",
    "all_cc = np.zeros((m, num_radii, num_theta))\n",
    "for ii in range(num_theta):\n",
    "    for jj in range(num_radii):\n",
    "        p0 = all_p0[ii]\n",
    "        all_cc[:,jj,ii] = exp_map(c0, all_p0[ii], tt[jj])[0]\n",
    "\n",
    "for ii in range(num_theta):\n",
    "    plt.plot(all_cc[0,:,ii], all_cc[1,:,ii], 'k')\n",
    "    \n",
    "for jj in range(num_radii):\n",
    "    plt.plot(all_cc[0,jj,:], all_cc[1,jj,:], 'k')"
   ]
  },
  {
   "cell_type": "code",
   "execution_count": 10,
   "id": "51178170",
   "metadata": {},
   "outputs": [
    {
     "name": "stdout",
     "output_type": "stream",
     "text": [
      "s= 1e-07 , err_cdotdot= 2.071388960252501e-06\n"
     ]
    }
   ],
   "source": [
    "def cdotdot(c, p):\n",
    "    cd = cdot(c, p)\n",
    "    pd = pdot(c, p)\n",
    "    return (2.0 * pd * np.dot(c,  c) +\n",
    "            4.0 * p  * np.dot(cd, c) +\n",
    "            2.0 * cd * np.dot(p,  c) +\n",
    "            2.0 * c  * np.dot(pd, c) +\n",
    "            2.0 * c  * np.dot(p,  cd))\n",
    "\n",
    "m = 10\n",
    "c0 = np.random.randn(m)\n",
    "p0 = np.random.randn(m)\n",
    "cd0 = cdot(c0, p0)\n",
    "cdd0 = cdotdot(c0, p0)\n",
    "\n",
    "s = 1e-7\n",
    "c1, p1 = exp_map(c0, p0, s)\n",
    "cd1 = cdot(c1, p1)\n",
    "\n",
    "cdd0_diff = (cd1 - cd0) / s\n",
    "err_cdotdot = np.linalg.norm(cdd0_diff - cdd0) / np.linalg.norm(cdd0_diff)\n",
    "print('s=', s, ', err_cdotdot=', err_cdotdot)"
   ]
  },
  {
   "cell_type": "code",
   "execution_count": 11,
   "id": "d43d467c",
   "metadata": {},
   "outputs": [
    {
     "name": "stdout",
     "output_type": "stream",
     "text": [
      "s= 1e-06 , err_dcdot_dp_h= 1.4171346446991216e-10\n"
     ]
    }
   ],
   "source": [
    "def apply_dcdot_dp(c, p, h):\n",
    "    return 2.0 * h * np.dot(c, c) + 2.0 * c * np.dot(h, c) # equals cdot(c,h)\n",
    "\n",
    "m = 10\n",
    "c0 = np.random.randn(m)\n",
    "p0 = np.random.randn(m)\n",
    "cd0 = cdot(c0, p0)\n",
    "h = np.random.randn(m)\n",
    "dcdot_dp_h = apply_dcdot_dp(c0, p0, h)\n",
    "\n",
    "s = 1e-6\n",
    "p1 = p0 + s*h\n",
    "cd1 = cdot(c0, p1)\n",
    "\n",
    "dcdot_dp_h_diff = (cd1 - cd0) / s\n",
    "\n",
    "err_dcdot_dp_h = np.linalg.norm(dcdot_dp_h_diff - dcdot_dp_h) / np.linalg.norm(dcdot_dp_h_diff)\n",
    "print('s=', s, ', err_dcdot_dp_h=', err_dcdot_dp_h)"
   ]
  },
  {
   "cell_type": "code",
   "execution_count": 12,
   "id": "c5a58407",
   "metadata": {},
   "outputs": [
    {
     "name": "stdout",
     "output_type": "stream",
     "text": [
      "s= 1e-06 , err_dpdot_dp_h= 1.427068413685599e-06\n"
     ]
    }
   ],
   "source": [
    "def apply_dpdot_dp(c, p, h):\n",
    "    return -4.0 * c * np.dot(h, p) - 2.0 * h * np.dot(c, p) - 2.0 * p * np.dot(c, h)\n",
    "\n",
    "m = 10\n",
    "c0 = np.random.randn(m)\n",
    "p0 = np.random.randn(m)\n",
    "pd0 = pdot(c0, p0)\n",
    "h = np.random.randn(m)\n",
    "dpdot_dp_h = apply_dpdot_dp(c0, p0, h)\n",
    "\n",
    "s = 1e-6\n",
    "p1 = p0 + s*h\n",
    "pd1 = pdot(c0, p1)\n",
    "\n",
    "dpdot_dp_h_diff = (pd1 - pd0) / s\n",
    "\n",
    "err_dpdot_dp_h = np.linalg.norm(dpdot_dp_h_diff - dpdot_dp_h) / np.linalg.norm(dpdot_dp_h_diff)\n",
    "print('s=', s, ', err_dpdot_dp_h=', err_dpdot_dp_h)"
   ]
  },
  {
   "cell_type": "code",
   "execution_count": 13,
   "id": "d3dc96c6",
   "metadata": {},
   "outputs": [
    {
     "name": "stdout",
     "output_type": "stream",
     "text": [
      "err_apply_dcdot_dp_T= 3.552713678800501e-15\n"
     ]
    }
   ],
   "source": [
    "apply_dcdot_dp_T = apply_dcdot_dp\n",
    "\n",
    "m = 10\n",
    "c0 = np.random.randn(m)\n",
    "p0 = np.random.randn(m)\n",
    "\n",
    "u = np.random.randn(m)\n",
    "v = np.random.randn(m)\n",
    "\n",
    "err_apply_dcdot_dp_T = np.dot(apply_dcdot_dp(c0, p0, u), v) - np.dot(u, apply_dcdot_dp_T(c0, p0, v))\n",
    "print('err_apply_dcdot_dp_T=', err_apply_dcdot_dp_T)"
   ]
  },
  {
   "cell_type": "code",
   "execution_count": 14,
   "id": "9e5c7e0b",
   "metadata": {},
   "outputs": [
    {
     "name": "stdout",
     "output_type": "stream",
     "text": [
      "err_apply_dpdot_dp_T= -3.552713678800501e-15\n"
     ]
    }
   ],
   "source": [
    "def apply_dpdot_dp_T(c, p, h):\n",
    "    return -4.0 * p * np.dot(h, c) - 2.0 * h * np.dot(c, p) - 2.0 * c * np.dot(p, h)\n",
    "\n",
    "m = 10\n",
    "c0 = np.random.randn(m)\n",
    "p0 = np.random.randn(m)\n",
    "\n",
    "u = np.random.randn(m)\n",
    "v = np.random.randn(m)\n",
    "\n",
    "err_apply_dpdot_dp_T = np.dot(apply_dpdot_dp(c0, p0, u), v) - np.dot(u, apply_dpdot_dp_T(c0, p0, v))\n",
    "print('err_apply_dpdot_dp_T=', err_apply_dpdot_dp_T)"
   ]
  },
  {
   "cell_type": "code",
   "execution_count": 15,
   "id": "ab78c91e",
   "metadata": {},
   "outputs": [
    {
     "name": "stdout",
     "output_type": "stream",
     "text": [
      "s= 1e-06 , err_dcdotdot_dp_h= 6.340470924906566e-07\n"
     ]
    }
   ],
   "source": [
    "def apply_dcdotdot_dp(c, p, h):\n",
    "    cd = cdot(c, p)\n",
    "    pd = pdot(c, p)\n",
    "    dcd = apply_dcdot_dp(c, p, h)\n",
    "    dpd = apply_dpdot_dp(c, p, h)\n",
    "    t1  = 2.0 * dpd * np.dot(c,   c)\n",
    "    t2a = 4.0 * h   * np.dot(cd,  c) \n",
    "    t2b = 4.0 * p   * np.dot(dcd, c)\n",
    "    t3a = 2.0 * dcd * np.dot(p,   c)\n",
    "    t3b = 2.0 * cd  * np.dot(h,   c)\n",
    "    t4  = 2.0 * c   * np.dot(dpd, c)\n",
    "    t5a = 2.0 * c   * np.dot(h,   cd)\n",
    "    t5b = 2.0 * c   * np.dot(p,   dcd)\n",
    "    return t1 + t2a + t2b + t3a + t3b + t4 + t5a + t5b\n",
    "\n",
    "m = 10\n",
    "c0 = np.random.randn(m)\n",
    "p0 = np.random.randn(m)\n",
    "cdd0 = cdotdot(c0, p0)\n",
    "h = np.random.randn(m)\n",
    "dcdotdot_dp_h = apply_dcdotdot_dp(c0, p0, h)\n",
    "\n",
    "s = 1e-6\n",
    "p1 = p0 + s*h\n",
    "cdd1 = cdotdot(c0, p1)\n",
    "\n",
    "dcdotdot_dp_h_diff = (cdd1 - cdd0) / s\n",
    "\n",
    "err_dcdotdot_dp_h = np.linalg.norm(dcdotdot_dp_h_diff - dcdotdot_dp_h) / np.linalg.norm(dcdotdot_dp_h_diff)\n",
    "print('s=', s, ', err_dcdotdot_dp_h=', err_dcdotdot_dp_h)"
   ]
  },
  {
   "cell_type": "code",
   "execution_count": 16,
   "id": "6179e2ec",
   "metadata": {},
   "outputs": [
    {
     "name": "stdout",
     "output_type": "stream",
     "text": [
      "err_apply_dcdotdot_dp_T= -1.1368683772161603e-13\n"
     ]
    }
   ],
   "source": [
    "def apply_dcdotdot_dp_T(c, p, h):\n",
    "    cd = cdot(c, p)\n",
    "    pd = pdot(c, p)\n",
    "    p_cph = apply_dpdot_dp_T(c, p, h)\n",
    "    c_cpc = apply_dcdot_dp_T(c, p, c)\n",
    "    c_cph = apply_dcdot_dp_T(c, p, h)\n",
    "    p_cpc = apply_dpdot_dp_T(c, p, c)\n",
    "    c_cpp = apply_dcdot_dp_T(c, p, p)\n",
    "    t1  = 2.0 * p_cph * np.dot(c,  c)\n",
    "    t2a = 4.0 * h     * np.dot(cd, c) \n",
    "    t2b = 4.0 * c_cpc * np.dot(p,  h)\n",
    "    t3a = 2.0 * c_cph * np.dot(p,  c)\n",
    "    t3b = 2.0 * c     * np.dot(cd, h)\n",
    "    t4  = 2.0 * p_cpc * np.dot(c,  h)\n",
    "    t5a = 2.0 * cd    * np.dot(c,  h)\n",
    "    t5b = 2.0 * c_cpp * np.dot(c,  h)\n",
    "    return t1 + t2a + t2b + t3a + t3b + t4 + t5a + t5b\n",
    "    \n",
    "m = 10\n",
    "c0 = np.random.randn(m)\n",
    "p0 = np.random.randn(m)\n",
    "\n",
    "u = np.random.randn(m)\n",
    "v = np.random.randn(m)\n",
    "\n",
    "err_apply_dcdotdot_dp_T = np.dot(apply_dcdotdot_dp(c0, p0, u), v) - np.dot(u, apply_dcdotdot_dp_T(c0, p0, v))\n",
    "print('err_apply_dcdotdot_dp_T=', err_apply_dcdotdot_dp_T)"
   ]
  },
  {
   "cell_type": "code",
   "execution_count": 39,
   "id": "8d8d5f99",
   "metadata": {},
   "outputs": [
    {
     "data": {
      "image/png": "[encoded data removed]",
      "text/plain": [
       "<Figure size 720x720 with 1 Axes>"
      ]
     },
     "metadata": {
      "needs_background": "light"
     },
     "output_type": "display_data"
    }
   ],
   "source": [
    "def exp_map_taylor0(c, p, t):\n",
    "    return c\n",
    "\n",
    "def exp_map_taylor1(c, p, t):\n",
    "    return c + t * cdot(c,p)\n",
    "\n",
    "def exp_map_taylor2(c, p, t):\n",
    "    return c + t * cdot(c,p) + (t**2 / 2.0) * cdotdot(c,p)\n",
    "\n",
    "m = 10\n",
    "c0 = np.random.randn(m)\n",
    "p0 = np.random.randn(m)\n",
    "\n",
    "ss = np.logspace(-10, 0, 100)\n",
    "all_err_taylor0 = np.zeros(len(ss))\n",
    "all_err_taylor1 = np.zeros(len(ss))\n",
    "all_err_taylor2 = np.zeros(len(ss))\n",
    "for ii in range(len(ss)):\n",
    "    s = ss[ii]\n",
    "    es_true = exp_map(c0, p0, s)[0]\n",
    "    es0 = exp_map_taylor0(c0, p0, s)\n",
    "    es1 = exp_map_taylor1(c0, p0, s)\n",
    "    es2 = exp_map_taylor2(c0, p0, s)\n",
    "\n",
    "    err_taylor0 = np.linalg.norm(es0 - es_true) / np.linalg.norm(es_true)\n",
    "    err_taylor1 = np.linalg.norm(es1 - es_true) / np.linalg.norm(es_true)\n",
    "    err_taylor2 = np.linalg.norm(es2 - es_true) / np.linalg.norm(es_true)\n",
    "    \n",
    "    all_err_taylor0[ii] = err_taylor0\n",
    "    all_err_taylor1[ii] = err_taylor1\n",
    "    all_err_taylor2[ii] = err_taylor2\n",
    "    \n",
    "#     print('s=', s, ', err_taylor0=', err_taylor0, ', err_taylor1=', err_taylor1, ', err_taylor2=', err_taylor2)\n",
    "\n",
    "plt.figure(figsize=(10,10))\n",
    "plt.loglog(ss, all_err_taylor0, 'k')\n",
    "plt.loglog(ss, all_err_taylor1, 'b')\n",
    "plt.loglog(ss, all_err_taylor2, 'r')\n",
    "plt.loglog(ss, ss, '--k')\n",
    "plt.loglog(ss, ss**2, '--b')\n",
    "plt.loglog(ss, ss**3, '--r')\n",
    "plt.ylim(1e-15, 1e1)\n",
    "plt.title('Exponential map taylor series error')\n",
    "plt.xlabel('s')\n",
    "plt.ylabel('taylor error')\n",
    "plt.legend(['Taylor0', 'Taylor1', 'Taylor2', 's', 's**2', 's**3'])\n",
    "plt.gca().set_aspect('equal')"
   ]
  },
  {
   "cell_type": "code",
   "execution_count": 63,
   "id": "4e652cbe",
   "metadata": {},
   "outputs": [
    {
     "name": "stdout",
     "output_type": "stream",
     "text": [
      "s= 1e-07 , err_deT0_dp= 31.801146928547144\n",
      "s= 1e-07 , err_deT1_dp= 4.932635115759877e-07\n",
      "s= 1e-07 , err_deT2_dp= 4.932635115759877e-07\n"
     ]
    }
   ],
   "source": [
    "def apply_dexp_map_taylor0_dp(c, p, t, h): # apply to h\n",
    "    return np.zeros(c.shape)\n",
    "\n",
    "def apply_dexp_map_taylor1_dp(c, p, t, h): # apply to h\n",
    "    return t * apply_dcdot_dp(c, p, h)\n",
    "\n",
    "def apply_dexp_map_taylor2_dp(c, p, t, h): # apply to h\n",
    "    return t * apply_dcdot_dp(c, p, h) + (t**2 / 2.0) * apply_dcdotdot_dp(c, p, h)\n",
    "\n",
    "\n",
    "m = 10\n",
    "c0 = np.random.randn(m)\n",
    "# p0 = np.random.randn(m)\n",
    "p0 = np.zeros(m)\n",
    "T = 0.7\n",
    "eT0_0 = exp_map(c0, p0, T)[0]\n",
    "eT1_0 = exp_map(c0, p0, T)[0]\n",
    "eT2_0 = exp_map(c0, p0, T)[0]\n",
    "# eT0_0 = exp_map_taylor0(c0, p0, T)\n",
    "# eT1_0 = exp_map_taylor1(c0, p0, T)\n",
    "# eT2_0 = exp_map_taylor2(c0, p0, T)\n",
    "\n",
    "h = np.random.randn(m)\n",
    "deT0_dp = apply_dexp_map_taylor0_dp(c0, p0, T, h)\n",
    "deT1_dp = apply_dexp_map_taylor1_dp(c0, p0, T, h)\n",
    "deT2_dp = apply_dexp_map_taylor2_dp(c0, p0, T, h)\n",
    "\n",
    "s = 1e-7\n",
    "p1 = p0 + s * h\n",
    "eT0_1 = exp_map(c0, p1, T)[0]\n",
    "eT1_1 = exp_map(c0, p1, T)[0]\n",
    "eT2_1 = exp_map(c0, p1, T)[0]\n",
    "# eT0_1 = exp_map_taylor0(c0, p1, T)\n",
    "# eT1_1 = exp_map_taylor1(c0, p1, T)\n",
    "# eT2_1 = exp_map_taylor2(c0, p1, T)\n",
    "\n",
    "\n",
    "deT0_dp_diff = (eT0_1 - eT0_0) / s\n",
    "deT1_dp_diff = (eT1_1 - eT1_0) / s\n",
    "deT2_dp_diff = (eT2_1 - eT2_0) / s\n",
    "\n",
    "err_deT0_dp = np.linalg.norm(deT0_dp_diff - deT0_dp) # should be exact zero\n",
    "err_deT1_dp = np.linalg.norm(deT1_dp_diff - deT1_dp) / np.linalg.norm(deT1_dp_diff)\n",
    "err_deT2_dp = np.linalg.norm(deT2_dp_diff - deT2_dp) / np.linalg.norm(deT2_dp_diff)\n",
    "\n",
    "print('s=', s, ', err_deT0_dp=', err_deT0_dp)\n",
    "print('s=', s, ', err_deT1_dp=', err_deT1_dp)\n",
    "print('s=', s, ', err_deT2_dp=', err_deT2_dp)"
   ]
  },
  {
   "cell_type": "code",
   "execution_count": 60,
   "id": "19da314a",
   "metadata": {},
   "outputs": [
    {
     "name": "stdout",
     "output_type": "stream",
     "text": [
      "err_apply_dexp_map_taylor0_dp_T= 0.0\n",
      "err_apply_dexp_map_taylor1_dp_T= -1.4210854715202004e-14\n",
      "err_apply_dexp_map_taylor2_dp_T= 0.0\n"
     ]
    }
   ],
   "source": [
    "def apply_dexp_map_taylor0_dp_T(c, p, t, h): # apply to h\n",
    "    return np.zeros(c.shape)\n",
    "\n",
    "def apply_dexp_map_taylor1_dp_T(c, p, t, h): # apply to h\n",
    "    return t * apply_dcdot_dp_T(c, p, h)\n",
    "\n",
    "def apply_dexp_map_taylor2_dp_T(c, p, t, h): # apply to h\n",
    "    return t * apply_dcdot_dp_T(c, p, h) + (t**2 / 2.0) * apply_dcdotdot_dp_T(c, p, h)\n",
    "\n",
    "m = 10\n",
    "c0 = np.random.randn(m)\n",
    "p0 = np.random.randn(m)\n",
    "T=0.7\n",
    "\n",
    "u = np.random.randn(m)\n",
    "v = np.random.randn(m)\n",
    "\n",
    "err_apply_dexp_map_taylor0_dp_T = (np.dot(apply_dexp_map_taylor0_dp(c0, p0, T, u), v)\n",
    "                                 - np.dot(u, apply_dexp_map_taylor0_dp_T(c0, p0,T,  v)))\n",
    "print('err_apply_dexp_map_taylor0_dp_T=', err_apply_dexp_map_taylor0_dp_T)\n",
    "\n",
    "err_apply_dexp_map_taylor1_dp_T = (np.dot(apply_dexp_map_taylor1_dp(c0, p0, T, u), v)\n",
    "                                 - np.dot(u, apply_dexp_map_taylor1_dp_T(c0, p0,T,  v)))\n",
    "print('err_apply_dexp_map_taylor1_dp_T=', err_apply_dexp_map_taylor1_dp_T)\n",
    "\n",
    "err_apply_dexp_map_taylor2_dp_T = (np.dot(apply_dexp_map_taylor2_dp(c0, p0, T, u), v)\n",
    "                                 - np.dot(u, apply_dexp_map_taylor2_dp_T(c0, p0,T,  v)))\n",
    "print('err_apply_dexp_map_taylor2_dp_T=', err_apply_dexp_map_taylor2_dp_T)"
   ]
  },
  {
   "cell_type": "code",
   "execution_count": null,
   "id": "2cc65d03",
   "metadata": {},
   "outputs": [],
   "source": []
  },
  {
   "cell_type": "code",
   "execution_count": null,
   "id": "9bab0761",
   "metadata": {},
   "outputs": [],
   "source": []
  },
  {
   "cell_type": "code",
   "execution_count": null,
   "id": "30aedb7b",
   "metadata": {},
   "outputs": [],
   "source": []
  },
  {
   "cell_type": "code",
   "execution_count": 52,
   "id": "592f20f4",
   "metadata": {},
   "outputs": [
    {
     "data": {
      "text/plain": [
       "array([0., 0., 0., 0., 0., 0., 0., 0., 0., 0.])"
      ]
     },
     "execution_count": 52,
     "metadata": {},
     "output_type": "execute_result"
    }
   ],
   "source": [
    "deT0_dp_diff"
   ]
  },
  {
   "cell_type": "code",
   "execution_count": 50,
   "id": "a9589a64",
   "metadata": {},
   "outputs": [
    {
     "data": {
      "text/plain": [
       "array([0., 0., 0., 0., 0., 0., 0., 0., 0., 0.])"
      ]
     },
     "execution_count": 50,
     "metadata": {},
     "output_type": "execute_result"
    }
   ],
   "source": [
    "deT0_dp"
   ]
  },
  {
   "cell_type": "code",
   "execution_count": 29,
   "id": "26a346c9",
   "metadata": {},
   "outputs": [
    {
     "data": {
      "text/plain": [
       "1.2546055344968743"
      ]
     },
     "execution_count": 29,
     "metadata": {},
     "output_type": "execute_result"
    }
   ],
   "source": [
    "err_taylor0 = np.linalg.norm(es0 - es_true) / np.linalg.norm(es_true)"
   ]
  },
  {
   "cell_type": "code",
   "execution_count": null,
   "id": "22849a20",
   "metadata": {},
   "outputs": [],
   "source": []
  },
  {
   "cell_type": "code",
   "execution_count": null,
   "id": "5e47d9a5",
   "metadata": {},
   "outputs": [],
   "source": []
  },
  {
   "cell_type": "code",
   "execution_count": null,
   "id": "9db151ac",
   "metadata": {},
   "outputs": [],
   "source": [
    "dcdot_dp_h_diff"
   ]
  },
  {
   "cell_type": "code",
   "execution_count": null,
   "id": "3586a28f",
   "metadata": {},
   "outputs": [],
   "source": [
    "cdd0_diff"
   ]
  },
  {
   "cell_type": "code",
   "execution_count": null,
   "id": "7dfb60a8",
   "metadata": {},
   "outputs": [],
   "source": [
    "cdd0"
   ]
  },
  {
   "cell_type": "code",
   "execution_count": null,
   "id": "c0fa37d4",
   "metadata": {},
   "outputs": [],
   "source": []
  },
  {
   "cell_type": "code",
   "execution_count": null,
   "id": "8d665c8e",
   "metadata": {},
   "outputs": [],
   "source": [
    "cc100[:,-1]"
   ]
  },
  {
   "cell_type": "code",
   "execution_count": null,
   "id": "8898979a",
   "metadata": {},
   "outputs": [],
   "source": [
    "plt.plot(cc[0,:], cc[1,:])"
   ]
  },
  {
   "cell_type": "code",
   "execution_count": null,
   "id": "d4c31465",
   "metadata": {},
   "outputs": [],
   "source": [
    "cc"
   ]
  }
 ],
 "metadata": {
  "kernelspec": {
   "display_name": "Python 3 (ipykernel)",
   "language": "python",
   "name": "python3"
  },
  "language_info": {
   "codemirror_mode": {
    "name": "ipython",
    "version": 3
   },
   "file_extension": ".py",
   "mimetype": "text/x-python",
   "name": "python",
   "nbconvert_exporter": "python",
   "pygments_lexer": "ipython3",
   "version": "3.9.7"
  }
 },
 "nbformat": 4,
 "nbformat_minor": 5
}
